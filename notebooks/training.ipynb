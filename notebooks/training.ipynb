{
 "cells": [
  {
   "cell_type": "code",
   "execution_count": 1,
   "id": "adequate-request",
   "metadata": {},
   "outputs": [],
   "source": [
    "import os\n",
    "from typing import List, Dict, Tuple\n",
    "\n",
    "import librosa\n",
    "import librosa.display\n",
    "import numpy as np\n",
    "import IPython.display as ipd\n",
    "from sklearn.model_selection import train_test_split\n",
    "import matplotlib.pyplot as plt\n",
    "from sklearn import linear_model, svm, metrics\n",
    "import xgboost as xgb\n",
    "\n",
    "from beat2d import settings"
   ]
  },
  {
   "cell_type": "code",
   "execution_count": 2,
   "id": "worst-worst",
   "metadata": {},
   "outputs": [],
   "source": [
    "DATASET_PATH = \"../data/oneshots/\"\n",
    "CLASSES = [\"kick\", \"snare\"]\n",
    "LABELS = {\"kick\": 0, \"snare\": 1}"
   ]
  },
  {
   "cell_type": "code",
   "execution_count": 3,
   "id": "aggregate-defendant",
   "metadata": {},
   "outputs": [],
   "source": [
    "def load_dataset(dataset_path: str, classes: List[str]) -> Tuple[List[np.ndarray], List[str]]:\n",
    "    data: List[np.ndarray] = []\n",
    "    labels: List[str] = []\n",
    "    \n",
    "    for cls in classes:\n",
    "        class_dir = os.path.join(DATASET_PATH, cls)\n",
    "        class_dir = os.path.abspath(class_dir)\n",
    "        \n",
    "        if not os.path.isdir(class_dir):\n",
    "            raise ValueError(f\"No folder {cls} in {dataset_path}\")\n",
    "        \n",
    "        for fname in os.listdir(class_dir):\n",
    "            sample, sample_rate = librosa.core.load(os.path.join(class_dir, fname), settings.SAMPLE_RATE)\n",
    "            data.append(sample)\n",
    "            labels.append(LABELS[cls])\n",
    "    \n",
    "    return data, labels"
   ]
  },
  {
   "cell_type": "code",
   "execution_count": 4,
   "id": "golden-maximum",
   "metadata": {},
   "outputs": [],
   "source": [
    "data, labels = load_dataset(DATASET_PATH, CLASSES)"
   ]
  },
  {
   "cell_type": "code",
   "execution_count": 5,
   "id": "conventional-relative",
   "metadata": {
    "scrolled": true
   },
   "outputs": [
    {
     "name": "stderr",
     "output_type": "stream",
     "text": [
      "/home/jason/miniconda3/envs/beat2d/lib/python3.7/site-packages/librosa/core/spectrum.py:224: UserWarning: n_fft=2048 is too small for input signal of length=1210\n",
      "  n_fft, y.shape[-1]\n"
     ]
    },
    {
     "name": "stdout",
     "output_type": "stream",
     "text": [
      "3 68 22.7027027027027\n"
     ]
    }
   ],
   "source": [
    "# Find the min, max, average length of the mfcc\n",
    "min_ = float('inf')\n",
    "max_ = -1\n",
    "max_d = None\n",
    "total = 0\n",
    "lengths = []\n",
    "\n",
    "for d in data:\n",
    "    mfcc_d = librosa.feature.mfcc(d, sr=settings.SAMPLE_RATE, n_mfcc=40)\n",
    "    \n",
    "    length = mfcc_d.shape[1]\n",
    "    lengths.append(length)\n",
    "    \n",
    "    total += length\n",
    "    \n",
    "    if length < min_:\n",
    "        min_ = length\n",
    "    \n",
    "    if length > max_:\n",
    "        max_ = length\n",
    "    \n",
    "avg = total / len(data)\n",
    "\n",
    "print(min_, max_, avg)"
   ]
  },
  {
   "cell_type": "code",
   "execution_count": 6,
   "id": "muslim-child",
   "metadata": {
    "scrolled": false
   },
   "outputs": [
    {
     "data": {
      "text/plain": [
       "[<matplotlib.lines.Line2D at 0x7fb75ef1f510>]"
      ]
     },
     "execution_count": 6,
     "metadata": {},
     "output_type": "execute_result"
    },
    {
     "data": {
      "image/png": "[encoded data removed]",
      "text/plain": [
       "<Figure size 432x288 with 1 Axes>"
      ]
     },
     "metadata": {
      "needs_background": "light"
     },
     "output_type": "display_data"
    }
   ],
   "source": [
    "plt.plot(lengths)"
   ]
  },
  {
   "cell_type": "markdown",
   "id": "appreciated-walnut",
   "metadata": {},
   "source": [
    "Experimentally, 20 is probably a good place to pad to and cut to without losing data. This is probably even large for what I need, but we will try it for now."
   ]
  },
  {
   "cell_type": "code",
   "execution_count": 7,
   "id": "composite-surrey",
   "metadata": {},
   "outputs": [],
   "source": [
    "def preprocess_data(data: List[np.ndarray], n_mfcc: int = 40, length: int = 20) -> List[np.ndarray]:\n",
    "    preprocessed_data: List[np.ndarray] = []\n",
    "    \n",
    "    for idx, d in enumerate(data):\n",
    "        preprocessed_d: np.ndarray = np.zeros((n_mfcc, length))\n",
    "            \n",
    "        mfcc_d: np.ndarray = librosa.feature.mfcc(d, sr=settings.SAMPLE_RATE, n_mfcc=n_mfcc)\n",
    "        preprocessed_d[:, :min(length, mfcc_d.shape[1])] = mfcc_d[:, :min(length, mfcc_d.shape[1])]\n",
    "        \n",
    "        preprocessed_data.append(preprocessed_d.flatten())\n",
    "        \n",
    "    return preprocessed_data"
   ]
  },
  {
   "cell_type": "code",
   "execution_count": 8,
   "id": "played-environment",
   "metadata": {},
   "outputs": [],
   "source": [
    "p_data = preprocess_data(data)"
   ]
  },
  {
   "cell_type": "code",
   "execution_count": 9,
   "id": "formed-acquisition",
   "metadata": {},
   "outputs": [],
   "source": [
    "X_train, X_test, y_train, y_test = train_test_split(p_data, labels, test_size=0.2, random_state=1)"
   ]
  },
  {
   "cell_type": "markdown",
   "id": "painted-citation",
   "metadata": {},
   "source": [
    "Training a Stochastic Gradient Descent Support Vector Machine classifier."
   ]
  },
  {
   "cell_type": "code",
   "execution_count": 10,
   "id": "national-canadas",
   "metadata": {},
   "outputs": [],
   "source": [
    "clf_SGDSVM = linear_model.SGDClassifier(loss=\"hinge\")"
   ]
  },
  {
   "cell_type": "code",
   "execution_count": 11,
   "id": "molecular-publicity",
   "metadata": {},
   "outputs": [
    {
     "data": {
      "text/plain": [
       "SGDClassifier()"
      ]
     },
     "execution_count": 11,
     "metadata": {},
     "output_type": "execute_result"
    }
   ],
   "source": [
    "clf_SGDSVM.fit(X_train, y_train)"
   ]
  },
  {
   "cell_type": "code",
   "execution_count": 12,
   "id": "packed-appointment",
   "metadata": {
    "scrolled": true
   },
   "outputs": [
    {
     "data": {
      "text/plain": [
       "0.8846153846153846"
      ]
     },
     "execution_count": 12,
     "metadata": {},
     "output_type": "execute_result"
    }
   ],
   "source": [
    "clf_SGDSVM.score(X_test, y_test)"
   ]
  },
  {
   "cell_type": "markdown",
   "id": "understanding-mechanics",
   "metadata": {},
   "source": [
    "Training a Stochastic Gradient Descent Logistic Regression classifier."
   ]
  },
  {
   "cell_type": "code",
   "execution_count": 13,
   "id": "therapeutic-button",
   "metadata": {},
   "outputs": [],
   "source": [
    "clf_SGDLGR = linear_model.SGDClassifier(loss=\"log\")"
   ]
  },
  {
   "cell_type": "code",
   "execution_count": 14,
   "id": "binding-dover",
   "metadata": {},
   "outputs": [
    {
     "data": {
      "text/plain": [
       "SGDClassifier(loss='log')"
      ]
     },
     "execution_count": 14,
     "metadata": {},
     "output_type": "execute_result"
    }
   ],
   "source": [
    "clf_SGDLGR.fit(X_train, y_train)"
   ]
  },
  {
   "cell_type": "code",
   "execution_count": 15,
   "id": "willing-sunrise",
   "metadata": {
    "scrolled": true
   },
   "outputs": [
    {
     "data": {
      "text/plain": [
       "0.5"
      ]
     },
     "execution_count": 15,
     "metadata": {},
     "output_type": "execute_result"
    }
   ],
   "source": [
    "clf_SGDLGR.score(X_test, y_test)"
   ]
  },
  {
   "cell_type": "markdown",
   "id": "increased-savings",
   "metadata": {},
   "source": [
    "Training a Stochastic Gradient Descent Support Vector Machine classifier."
   ]
  },
  {
   "cell_type": "code",
   "execution_count": 16,
   "id": "coral-lincoln",
   "metadata": {},
   "outputs": [],
   "source": [
    "clf_SGD = linear_model.SGDClassifier()"
   ]
  },
  {
   "cell_type": "code",
   "execution_count": 17,
   "id": "smaller-ranch",
   "metadata": {},
   "outputs": [
    {
     "data": {
      "text/plain": [
       "SGDClassifier()"
      ]
     },
     "execution_count": 17,
     "metadata": {},
     "output_type": "execute_result"
    }
   ],
   "source": [
    "clf_SGD.fit(X_train, y_train)"
   ]
  },
  {
   "cell_type": "code",
   "execution_count": 18,
   "id": "hundred-military",
   "metadata": {},
   "outputs": [
    {
     "data": {
      "text/plain": [
       "0.8846153846153846"
      ]
     },
     "execution_count": 18,
     "metadata": {},
     "output_type": "execute_result"
    }
   ],
   "source": [
    "clf_SGD.score(X_test, y_test)"
   ]
  },
  {
   "cell_type": "markdown",
   "id": "fitted-apparatus",
   "metadata": {},
   "source": [
    "Training a Stochastic Gradient Descent Support Vector Machine classifier."
   ]
  },
  {
   "cell_type": "code",
   "execution_count": 19,
   "id": "removed-nutrition",
   "metadata": {},
   "outputs": [],
   "source": [
    "clf_SGD = linear_model.SGDClassifier()"
   ]
  },
  {
   "cell_type": "code",
   "execution_count": 20,
   "id": "alleged-bhutan",
   "metadata": {},
   "outputs": [
    {
     "data": {
      "text/plain": [
       "SGDClassifier()"
      ]
     },
     "execution_count": 20,
     "metadata": {},
     "output_type": "execute_result"
    }
   ],
   "source": [
    "clf_SGD.fit(X_train, y_train)"
   ]
  },
  {
   "cell_type": "code",
   "execution_count": 21,
   "id": "packed-appointments",
   "metadata": {},
   "outputs": [
    {
     "data": {
      "text/plain": [
       "0.8076923076923077"
      ]
     },
     "execution_count": 21,
     "metadata": {},
     "output_type": "execute_result"
    }
   ],
   "source": [
    "clf_SGD.score(X_test, y_test)"
   ]
  },
  {
   "cell_type": "markdown",
   "id": "welcome-barrel",
   "metadata": {},
   "source": [
    "Training a Support Vector classifier."
   ]
  },
  {
   "cell_type": "code",
   "execution_count": 22,
   "id": "convertible-minister",
   "metadata": {},
   "outputs": [],
   "source": [
    "clf_SVC = svm.SVC()"
   ]
  },
  {
   "cell_type": "code",
   "execution_count": 23,
   "id": "coordinate-sailing",
   "metadata": {},
   "outputs": [
    {
     "data": {
      "text/plain": [
       "SVC()"
      ]
     },
     "execution_count": 23,
     "metadata": {},
     "output_type": "execute_result"
    }
   ],
   "source": [
    "clf_SVC.fit(X_train, y_train)"
   ]
  },
  {
   "cell_type": "code",
   "execution_count": 24,
   "id": "marked-sleep",
   "metadata": {},
   "outputs": [
    {
     "data": {
      "text/plain": [
       "0.8269230769230769"
      ]
     },
     "execution_count": 24,
     "metadata": {},
     "output_type": "execute_result"
    }
   ],
   "source": [
    "clf_SVC.score(X_test, y_test)"
   ]
  },
  {
   "cell_type": "markdown",
   "id": "transparent-mercy",
   "metadata": {},
   "source": [
    "Training a Boosted Tree classifier."
   ]
  },
  {
   "cell_type": "code",
   "execution_count": 25,
   "id": "social-personality",
   "metadata": {},
   "outputs": [],
   "source": [
    "dtrain = xgb.DMatrix(np.array(X_train), label=y_train)\n",
    "dtest = xgb.DMatrix(np.array(X_test), label=y_test)"
   ]
  },
  {
   "cell_type": "code",
   "execution_count": 26,
   "id": "turkish-danish",
   "metadata": {},
   "outputs": [],
   "source": [
    "clf_xgb = xgb.XGBClassifier(objective=\"reg:logistic\", learning_rate=0.1, label_encoder=False)"
   ]
  },
  {
   "cell_type": "code",
   "execution_count": 27,
   "id": "ranging-purpose",
   "metadata": {},
   "outputs": [
    {
     "data": {
      "text/plain": [
       "[0,\n",
       " 0,\n",
       " 0,\n",
       " 0,\n",
       " 1,\n",
       " 0,\n",
       " 0,\n",
       " 1,\n",
       " 1,\n",
       " 1,\n",
       " 0,\n",
       " 0,\n",
       " 0,\n",
       " 1,\n",
       " 1,\n",
       " 0,\n",
       " 1,\n",
       " 0,\n",
       " 0,\n",
       " 1,\n",
       " 0,\n",
       " 1,\n",
       " 1,\n",
       " 0,\n",
       " 1,\n",
       " 1,\n",
       " 0,\n",
       " 0,\n",
       " 0,\n",
       " 1,\n",
       " 1,\n",
       " 1,\n",
       " 0,\n",
       " 0,\n",
       " 0,\n",
       " 1,\n",
       " 1,\n",
       " 0,\n",
       " 0,\n",
       " 0,\n",
       " 1,\n",
       " 0,\n",
       " 0,\n",
       " 0,\n",
       " 0,\n",
       " 0,\n",
       " 1,\n",
       " 1,\n",
       " 0,\n",
       " 1,\n",
       " 0,\n",
       " 0,\n",
       " 0,\n",
       " 1,\n",
       " 0,\n",
       " 0,\n",
       " 0,\n",
       " 1,\n",
       " 0,\n",
       " 0,\n",
       " 1,\n",
       " 1,\n",
       " 0,\n",
       " 1,\n",
       " 0,\n",
       " 1,\n",
       " 0,\n",
       " 1,\n",
       " 1,\n",
       " 0,\n",
       " 1,\n",
       " 0,\n",
       " 1,\n",
       " 0,\n",
       " 1,\n",
       " 0,\n",
       " 1,\n",
       " 0,\n",
       " 1,\n",
       " 0,\n",
       " 0,\n",
       " 1,\n",
       " 1,\n",
       " 0,\n",
       " 1,\n",
       " 1,\n",
       " 0,\n",
       " 1,\n",
       " 0,\n",
       " 0,\n",
       " 1,\n",
       " 1,\n",
       " 1,\n",
       " 1,\n",
       " 0,\n",
       " 1,\n",
       " 1,\n",
       " 1,\n",
       " 1,\n",
       " 0,\n",
       " 1,\n",
       " 0,\n",
       " 1,\n",
       " 1,\n",
       " 0,\n",
       " 0,\n",
       " 0,\n",
       " 1,\n",
       " 1,\n",
       " 0,\n",
       " 0,\n",
       " 0,\n",
       " 1,\n",
       " 0,\n",
       " 1,\n",
       " 1,\n",
       " 0,\n",
       " 1,\n",
       " 0,\n",
       " 1,\n",
       " 1,\n",
       " 0,\n",
       " 1,\n",
       " 1,\n",
       " 1,\n",
       " 0,\n",
       " 0,\n",
       " 0,\n",
       " 0,\n",
       " 0,\n",
       " 1,\n",
       " 0,\n",
       " 1,\n",
       " 1,\n",
       " 1,\n",
       " 0,\n",
       " 1,\n",
       " 0,\n",
       " 0,\n",
       " 0,\n",
       " 1,\n",
       " 0,\n",
       " 0,\n",
       " 0,\n",
       " 0,\n",
       " 0,\n",
       " 0,\n",
       " 0,\n",
       " 1,\n",
       " 0,\n",
       " 1,\n",
       " 0,\n",
       " 1,\n",
       " 1,\n",
       " 1,\n",
       " 1,\n",
       " 0,\n",
       " 1,\n",
       " 0,\n",
       " 1,\n",
       " 0,\n",
       " 1,\n",
       " 0,\n",
       " 1,\n",
       " 0,\n",
       " 0,\n",
       " 0,\n",
       " 0,\n",
       " 0,\n",
       " 0,\n",
       " 0,\n",
       " 0,\n",
       " 1,\n",
       " 1,\n",
       " 0,\n",
       " 0,\n",
       " 1,\n",
       " 1,\n",
       " 1,\n",
       " 0,\n",
       " 0,\n",
       " 1,\n",
       " 1,\n",
       " 1,\n",
       " 1,\n",
       " 1,\n",
       " 1,\n",
       " 1,\n",
       " 0,\n",
       " 0,\n",
       " 1,\n",
       " 0,\n",
       " 1,\n",
       " 1,\n",
       " 0,\n",
       " 1,\n",
       " 0,\n",
       " 1,\n",
       " 1,\n",
       " 0,\n",
       " 1,\n",
       " 1,\n",
       " 1,\n",
       " 1,\n",
       " 0,\n",
       " 1,\n",
       " 0]"
      ]
     },
     "execution_count": 27,
     "metadata": {},
     "output_type": "execute_result"
    }
   ],
   "source": [
    "y_train"
   ]
  },
  {
   "cell_type": "code",
   "execution_count": 28,
   "id": "ceramic-filling",
   "metadata": {},
   "outputs": [
    {
     "name": "stderr",
     "output_type": "stream",
     "text": [
      "/home/jason/miniconda3/envs/beat2d/lib/python3.7/site-packages/xgboost/sklearn.py:888: UserWarning: The use of label encoder in XGBClassifier is deprecated and will be removed in a future release. To remove this warning, do the following: 1) Pass option use_label_encoder=False when constructing XGBClassifier object; and 2) Encode your labels (y) as integers starting with 0, i.e. 0, 1, 2, ..., [num_class - 1].\n",
      "  warnings.warn(label_encoder_deprecation_msg, UserWarning)\n"
     ]
    },
    {
     "name": "stdout",
     "output_type": "stream",
     "text": [
      "[23:22:24] WARNING: ../src/learner.cc:541: \n",
      "Parameters: { label_encoder } might not be used.\n",
      "\n",
      "  This may not be accurate due to some parameters are only used in language bindings but\n",
      "  passed down to XGBoost core.  Or some parameters are not used but slip through this\n",
      "  verification. Please open an issue if you find above cases.\n",
      "\n",
      "\n"
     ]
    },
    {
     "data": {
      "text/plain": [
       "XGBClassifier(base_score=0.5, booster='gbtree', colsample_bylevel=1,\n",
       "              colsample_bynode=1, colsample_bytree=1, gamma=0, gpu_id=-1,\n",
       "              importance_type='gain', interaction_constraints='',\n",
       "              label_encoder=False, learning_rate=0.1, max_delta_step=0,\n",
       "              max_depth=6, min_child_weight=1, missing=nan,\n",
       "              monotone_constraints='()', n_estimators=100, n_jobs=8,\n",
       "              num_parallel_tree=1, objective='reg:logistic', random_state=0,\n",
       "              reg_alpha=0, reg_lambda=1, scale_pos_weight=1, subsample=1,\n",
       "              tree_method='exact', validate_parameters=1, verbosity=None)"
      ]
     },
     "execution_count": 28,
     "metadata": {},
     "output_type": "execute_result"
    }
   ],
   "source": [
    "clf_xgb.fit(np.array(X_train), y_train)"
   ]
  },
  {
   "cell_type": "code",
   "execution_count": 29,
   "id": "actual-envelope",
   "metadata": {},
   "outputs": [],
   "source": [
    "preds = clf_xgb.predict(np.array(X_test))"
   ]
  },
  {
   "cell_type": "code",
   "execution_count": 30,
   "id": "natural-texas",
   "metadata": {},
   "outputs": [],
   "source": [
    "rmse = np.sqrt(metrics.mean_squared_error(y_test, preds))"
   ]
  },
  {
   "cell_type": "code",
   "execution_count": 31,
   "id": "simplified-great",
   "metadata": {
    "scrolled": true
   },
   "outputs": [
    {
     "name": "stdout",
     "output_type": "stream",
     "text": [
      "RMSE: 0.196116\n"
     ]
    }
   ],
   "source": [
    "print(\"RMSE: %f\" % (rmse))"
   ]
  }
 ],
 "metadata": {
  "kernelspec": {
   "display_name": "Python 3",
   "language": "python",
   "name": "python3"
  },
  "language_info": {
   "codemirror_mode": {
    "name": "ipython",
    "version": 3
   },
   "file_extension": ".py",
   "mimetype": "text/x-python",
   "name": "python",
   "nbconvert_exporter": "python",
   "pygments_lexer": "ipython3",
   "version": "3.7.9"
  },
  "varInspector": {
   "cols": {
    "lenName": 16,
    "lenType": 16,
    "lenVar": 40
   },
   "kernels_config": {
    "python": {
     "delete_cmd_postfix": "",
     "delete_cmd_prefix": "del ",
     "library": "var_list.py",
     "varRefreshCmd": "print(var_dic_list())"
    },
    "r": {
     "delete_cmd_postfix": ") ",
     "delete_cmd_prefix": "rm(",
     "library": "var_list.r",
     "varRefreshCmd": "cat(var_dic_list()) "
    }
   },
   "types_to_exclude": [
    "module",
    "function",
    "builtin_function_or_method",
    "instance",
    "_Feature"
   ],
   "window_display": false
  }
 },
 "nbformat": 4,
 "nbformat_minor": 5
}
