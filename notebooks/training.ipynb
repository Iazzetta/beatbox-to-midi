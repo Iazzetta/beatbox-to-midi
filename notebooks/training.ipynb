{
 "cells": [
  {
   "cell_type": "code",
   "execution_count": 89,
   "id": "adequate-request",
   "metadata": {},
   "outputs": [],
   "source": [
    "import os\n",
    "from typing import List, Dict, Tuple\n",
    "\n",
    "import librosa\n",
    "import librosa.display\n",
    "import numpy as np\n",
    "import IPython.display as ipd\n",
    "from sklearn.model_selection import train_test_split\n",
    "import matplotlib.pyplot as plt\n",
    "from sklearn import linear_model, svm, metrics, model_selection\n",
    "import xgboost as xgb\n",
    "\n",
    "from beat2d import settings"
   ]
  },
  {
   "cell_type": "code",
   "execution_count": 2,
   "id": "worst-worst",
   "metadata": {},
   "outputs": [],
   "source": [
    "DATASET_PATH = \"../data/oneshots/\"\n",
    "CLASSES = [\"kick\", \"snare\"]\n",
    "LABELS = {\"kick\": 0, \"snare\": 1}"
   ]
  },
  {
   "cell_type": "code",
   "execution_count": 3,
   "id": "aggregate-defendant",
   "metadata": {},
   "outputs": [],
   "source": [
    "def load_dataset(dataset_path: str, classes: List[str]) -> Tuple[List[np.ndarray], List[str]]:\n",
    "    data: List[np.ndarray] = []\n",
    "    labels: List[str] = []\n",
    "    \n",
    "    for cls in classes:\n",
    "        class_dir = os.path.join(DATASET_PATH, cls)\n",
    "        class_dir = os.path.abspath(class_dir)\n",
    "        \n",
    "        if not os.path.isdir(class_dir):\n",
    "            raise ValueError(f\"No folder {cls} in {dataset_path}\")\n",
    "        \n",
    "        for fname in os.listdir(class_dir):\n",
    "            sample, sample_rate = librosa.core.load(os.path.join(class_dir, fname), settings.SAMPLE_RATE)\n",
    "            data.append(sample)\n",
    "            labels.append(LABELS[cls])\n",
    "    \n",
    "    return data, labels"
   ]
  },
  {
   "cell_type": "code",
   "execution_count": 4,
   "id": "golden-maximum",
   "metadata": {},
   "outputs": [],
   "source": [
    "data, labels = load_dataset(DATASET_PATH, CLASSES)"
   ]
  },
  {
   "cell_type": "code",
   "execution_count": 5,
   "id": "conventional-relative",
   "metadata": {
    "scrolled": true
   },
   "outputs": [
    {
     "name": "stderr",
     "output_type": "stream",
     "text": [
      "/home/jason/miniconda3/envs/beat2d/lib/python3.7/site-packages/librosa/core/spectrum.py:224: UserWarning: n_fft=2048 is too small for input signal of length=1210\n",
      "  n_fft, y.shape[-1]\n"
     ]
    },
    {
     "name": "stdout",
     "output_type": "stream",
     "text": [
      "3 68 22.7027027027027\n"
     ]
    }
   ],
   "source": [
    "# Find the min, max, average length of the mfcc\n",
    "min_ = float('inf')\n",
    "max_ = -1\n",
    "max_d = None\n",
    "total = 0\n",
    "lengths = []\n",
    "\n",
    "for d in data:\n",
    "    mfcc_d = librosa.feature.mfcc(d, sr=settings.SAMPLE_RATE, n_mfcc=40)\n",
    "    \n",
    "    length = mfcc_d.shape[1]\n",
    "    lengths.append(length)\n",
    "    \n",
    "    total += length\n",
    "    \n",
    "    if length < min_:\n",
    "        min_ = length\n",
    "    \n",
    "    if length > max_:\n",
    "        max_ = length\n",
    "    \n",
    "avg = total / len(data)\n",
    "\n",
    "print(min_, max_, avg)"
   ]
  },
  {
   "cell_type": "code",
   "execution_count": 6,
   "id": "muslim-child",
   "metadata": {
    "scrolled": false
   },
   "outputs": [
    {
     "data": {
      "text/plain": [
       "[<matplotlib.lines.Line2D at 0x7fb75ef1f510>]"
      ]
     },
     "execution_count": 6,
     "metadata": {},
     "output_type": "execute_result"
    },
    {
     "data": {
      "image/png": "[encoded data removed]",
      "text/plain": [
       "<Figure size 432x288 with 1 Axes>"
      ]
     },
     "metadata": {
      "needs_background": "light"
     },
     "output_type": "display_data"
    }
   ],
   "source": [
    "plt.plot(lengths)"
   ]
  },
  {
   "cell_type": "markdown",
   "id": "appreciated-walnut",
   "metadata": {},
   "source": [
    "Experimentally, 20 is probably a good place to pad to and cut to without losing data. This is probably even large for what I need, but we will try it for now."
   ]
  },
  {
   "cell_type": "code",
   "execution_count": 7,
   "id": "composite-surrey",
   "metadata": {},
   "outputs": [],
   "source": [
    "def preprocess_data(data: List[np.ndarray], n_mfcc: int = 40, length: int = 20) -> List[np.ndarray]:\n",
    "    preprocessed_data: List[np.ndarray] = []\n",
    "    \n",
    "    for idx, d in enumerate(data):\n",
    "        preprocessed_d: np.ndarray = np.zeros((n_mfcc, length))\n",
    "            \n",
    "        mfcc_d: np.ndarray = librosa.feature.mfcc(d, sr=settings.SAMPLE_RATE, n_mfcc=n_mfcc, )\n",
    "        preprocessed_d[:, :min(length, mfcc_d.shape[1])] = mfcc_d[:, :min(length, mfcc_d.shape[1])]\n",
    "        \n",
    "        preprocessed_data.append(preprocessed_d.flatten())\n",
    "        \n",
    "    return preprocessed_data"
   ]
  },
  {
   "cell_type": "code",
   "execution_count": 134,
   "id": "therapeutic-belize",
   "metadata": {},
   "outputs": [],
   "source": [
    "def predict_and_play(model, data, labels, idx):\n",
    "    preds = model.predict(preprocess_data([data[idx]]))\n",
    "    \n",
    "    print(preds[0], labels[idx])\n",
    "    return ipd.Audio(data[idx], rate=settings.SAMPLE_RATE)\n",
    "\n",
    "def predict_and_play_xgb(model, data, labels, idx):\n",
    "    preds = model.predict(np.array(preprocess_data([data[idx]])[0]))\n",
    "    \n",
    "    print(preds[0], labels[idx])\n",
    "    return ipd.Audio(data[idx], rate=settings.SAMPLE_RATE)"
   ]
  },
  {
   "cell_type": "code",
   "execution_count": 135,
   "id": "first-essex",
   "metadata": {},
   "outputs": [
    {
     "ename": "ValueError",
     "evalue": "('Expecting 2 dimensional numpy.ndarray, got: ', (800,))",
     "output_type": "error",
     "traceback": [
      "\u001b[0;31m---------------------------------------------------------------------------\u001b[0m",
      "\u001b[0;31mValueError\u001b[0m                                Traceback (most recent call last)",
      "\u001b[0;32m<ipython-input-135-895ff1be94b0>\u001b[0m in \u001b[0;36m<module>\u001b[0;34m\u001b[0m\n\u001b[0;32m----> 1\u001b[0;31m \u001b[0mpredict_and_play_xgb\u001b[0m\u001b[0;34m(\u001b[0m\u001b[0mclf_xgb\u001b[0m\u001b[0;34m,\u001b[0m \u001b[0mX_test\u001b[0m\u001b[0;34m,\u001b[0m \u001b[0my_test\u001b[0m\u001b[0;34m,\u001b[0m \u001b[0;36m37\u001b[0m\u001b[0;34m)\u001b[0m\u001b[0;34m\u001b[0m\u001b[0;34m\u001b[0m\u001b[0m\n\u001b[0m",
      "\u001b[0;32m<ipython-input-134-553f7a9e614f>\u001b[0m in \u001b[0;36mpredict_and_play_xgb\u001b[0;34m(model, data, labels, idx)\u001b[0m\n\u001b[1;32m      6\u001b[0m \u001b[0;34m\u001b[0m\u001b[0m\n\u001b[1;32m      7\u001b[0m \u001b[0;32mdef\u001b[0m \u001b[0mpredict_and_play_xgb\u001b[0m\u001b[0;34m(\u001b[0m\u001b[0mmodel\u001b[0m\u001b[0;34m,\u001b[0m \u001b[0mdata\u001b[0m\u001b[0;34m,\u001b[0m \u001b[0mlabels\u001b[0m\u001b[0;34m,\u001b[0m \u001b[0midx\u001b[0m\u001b[0;34m)\u001b[0m\u001b[0;34m:\u001b[0m\u001b[0;34m\u001b[0m\u001b[0;34m\u001b[0m\u001b[0m\n\u001b[0;32m----> 8\u001b[0;31m     \u001b[0mpreds\u001b[0m \u001b[0;34m=\u001b[0m \u001b[0mmodel\u001b[0m\u001b[0;34m.\u001b[0m\u001b[0mpredict\u001b[0m\u001b[0;34m(\u001b[0m\u001b[0mnp\u001b[0m\u001b[0;34m.\u001b[0m\u001b[0marray\u001b[0m\u001b[0;34m(\u001b[0m\u001b[0mpreprocess_data\u001b[0m\u001b[0;34m(\u001b[0m\u001b[0;34m[\u001b[0m\u001b[0mdata\u001b[0m\u001b[0;34m[\u001b[0m\u001b[0midx\u001b[0m\u001b[0;34m]\u001b[0m\u001b[0;34m]\u001b[0m\u001b[0;34m)\u001b[0m\u001b[0;34m[\u001b[0m\u001b[0;36m0\u001b[0m\u001b[0;34m]\u001b[0m\u001b[0;34m)\u001b[0m\u001b[0;34m)\u001b[0m\u001b[0;34m\u001b[0m\u001b[0;34m\u001b[0m\u001b[0m\n\u001b[0m\u001b[1;32m      9\u001b[0m \u001b[0;34m\u001b[0m\u001b[0m\n\u001b[1;32m     10\u001b[0m     \u001b[0mprint\u001b[0m\u001b[0;34m(\u001b[0m\u001b[0mpreds\u001b[0m\u001b[0;34m[\u001b[0m\u001b[0;36m0\u001b[0m\u001b[0;34m]\u001b[0m\u001b[0;34m,\u001b[0m \u001b[0mlabels\u001b[0m\u001b[0;34m[\u001b[0m\u001b[0midx\u001b[0m\u001b[0;34m]\u001b[0m\u001b[0;34m)\u001b[0m\u001b[0;34m\u001b[0m\u001b[0;34m\u001b[0m\u001b[0m\n",
      "\u001b[0;32m~/miniconda3/envs/beat2d/lib/python3.7/site-packages/xgboost/sklearn.py\u001b[0m in \u001b[0;36mpredict\u001b[0;34m(self, data, output_margin, ntree_limit, validate_features, base_margin)\u001b[0m\n\u001b[1;32m    965\u001b[0m         \"\"\"\n\u001b[1;32m    966\u001b[0m         test_dmatrix = DMatrix(data, base_margin=base_margin,\n\u001b[0;32m--> 967\u001b[0;31m                                missing=self.missing, nthread=self.n_jobs)\n\u001b[0m\u001b[1;32m    968\u001b[0m         \u001b[0;32mif\u001b[0m \u001b[0mntree_limit\u001b[0m \u001b[0;32mis\u001b[0m \u001b[0;32mNone\u001b[0m\u001b[0;34m:\u001b[0m\u001b[0;34m\u001b[0m\u001b[0;34m\u001b[0m\u001b[0m\n\u001b[1;32m    969\u001b[0m             \u001b[0mntree_limit\u001b[0m \u001b[0;34m=\u001b[0m \u001b[0mgetattr\u001b[0m\u001b[0;34m(\u001b[0m\u001b[0mself\u001b[0m\u001b[0;34m,\u001b[0m \u001b[0;34m\"best_ntree_limit\"\u001b[0m\u001b[0;34m,\u001b[0m \u001b[0;36m0\u001b[0m\u001b[0;34m)\u001b[0m\u001b[0;34m\u001b[0m\u001b[0;34m\u001b[0m\u001b[0m\n",
      "\u001b[0;32m~/miniconda3/envs/beat2d/lib/python3.7/site-packages/xgboost/core.py\u001b[0m in \u001b[0;36m__init__\u001b[0;34m(self, data, label, weight, base_margin, missing, silent, feature_names, feature_types, nthread, enable_categorical)\u001b[0m\n\u001b[1;32m    503\u001b[0m             \u001b[0mfeature_names\u001b[0m\u001b[0;34m=\u001b[0m\u001b[0mfeature_names\u001b[0m\u001b[0;34m,\u001b[0m\u001b[0;34m\u001b[0m\u001b[0;34m\u001b[0m\u001b[0m\n\u001b[1;32m    504\u001b[0m             \u001b[0mfeature_types\u001b[0m\u001b[0;34m=\u001b[0m\u001b[0mfeature_types\u001b[0m\u001b[0;34m,\u001b[0m\u001b[0;34m\u001b[0m\u001b[0;34m\u001b[0m\u001b[0m\n\u001b[0;32m--> 505\u001b[0;31m             enable_categorical=enable_categorical)\n\u001b[0m\u001b[1;32m    506\u001b[0m         \u001b[0;32massert\u001b[0m \u001b[0mhandle\u001b[0m \u001b[0;32mis\u001b[0m \u001b[0;32mnot\u001b[0m \u001b[0;32mNone\u001b[0m\u001b[0;34m\u001b[0m\u001b[0;34m\u001b[0m\u001b[0m\n\u001b[1;32m    507\u001b[0m         \u001b[0mself\u001b[0m\u001b[0;34m.\u001b[0m\u001b[0mhandle\u001b[0m \u001b[0;34m=\u001b[0m \u001b[0mhandle\u001b[0m\u001b[0;34m\u001b[0m\u001b[0;34m\u001b[0m\u001b[0m\n",
      "\u001b[0;32m~/miniconda3/envs/beat2d/lib/python3.7/site-packages/xgboost/data.py\u001b[0m in \u001b[0;36mdispatch_data_backend\u001b[0;34m(data, missing, threads, feature_names, feature_types, enable_categorical)\u001b[0m\n\u001b[1;32m    529\u001b[0m     \u001b[0;32mif\u001b[0m \u001b[0m_is_numpy_array\u001b[0m\u001b[0;34m(\u001b[0m\u001b[0mdata\u001b[0m\u001b[0;34m)\u001b[0m\u001b[0;34m:\u001b[0m\u001b[0;34m\u001b[0m\u001b[0;34m\u001b[0m\u001b[0m\n\u001b[1;32m    530\u001b[0m         return _from_numpy_array(data, missing, threads, feature_names,\n\u001b[0;32m--> 531\u001b[0;31m                                  feature_types)\n\u001b[0m\u001b[1;32m    532\u001b[0m     \u001b[0;32mif\u001b[0m \u001b[0m_is_uri\u001b[0m\u001b[0;34m(\u001b[0m\u001b[0mdata\u001b[0m\u001b[0;34m)\u001b[0m\u001b[0;34m:\u001b[0m\u001b[0;34m\u001b[0m\u001b[0;34m\u001b[0m\u001b[0m\n\u001b[1;32m    533\u001b[0m         \u001b[0;32mreturn\u001b[0m \u001b[0m_from_uri\u001b[0m\u001b[0;34m(\u001b[0m\u001b[0mdata\u001b[0m\u001b[0;34m,\u001b[0m \u001b[0mmissing\u001b[0m\u001b[0;34m,\u001b[0m \u001b[0mfeature_names\u001b[0m\u001b[0;34m,\u001b[0m \u001b[0mfeature_types\u001b[0m\u001b[0;34m)\u001b[0m\u001b[0;34m\u001b[0m\u001b[0;34m\u001b[0m\u001b[0m\n",
      "\u001b[0;32m~/miniconda3/envs/beat2d/lib/python3.7/site-packages/xgboost/data.py\u001b[0m in \u001b[0;36m_from_numpy_array\u001b[0;34m(data, missing, nthread, feature_names, feature_types)\u001b[0m\n\u001b[1;32m    143\u001b[0m \u001b[0;34m\u001b[0m\u001b[0m\n\u001b[1;32m    144\u001b[0m     \"\"\"\n\u001b[0;32m--> 145\u001b[0;31m     \u001b[0mflatten\u001b[0m \u001b[0;34m=\u001b[0m \u001b[0m_transform_np_array\u001b[0m\u001b[0;34m(\u001b[0m\u001b[0mdata\u001b[0m\u001b[0;34m)\u001b[0m\u001b[0;34m\u001b[0m\u001b[0;34m\u001b[0m\u001b[0m\n\u001b[0m\u001b[1;32m    146\u001b[0m     \u001b[0mhandle\u001b[0m \u001b[0;34m=\u001b[0m \u001b[0mctypes\u001b[0m\u001b[0;34m.\u001b[0m\u001b[0mc_void_p\u001b[0m\u001b[0;34m(\u001b[0m\u001b[0;34m)\u001b[0m\u001b[0;34m\u001b[0m\u001b[0;34m\u001b[0m\u001b[0m\n\u001b[1;32m    147\u001b[0m     _check_call(_LIB.XGDMatrixCreateFromMat_omp(\n",
      "\u001b[0;32m~/miniconda3/envs/beat2d/lib/python3.7/site-packages/xgboost/data.py\u001b[0m in \u001b[0;36m_transform_np_array\u001b[0;34m(data)\u001b[0m\n\u001b[1;32m    119\u001b[0m     \u001b[0;32mif\u001b[0m \u001b[0mlen\u001b[0m\u001b[0;34m(\u001b[0m\u001b[0mdata\u001b[0m\u001b[0;34m.\u001b[0m\u001b[0mshape\u001b[0m\u001b[0;34m)\u001b[0m \u001b[0;34m!=\u001b[0m \u001b[0;36m2\u001b[0m\u001b[0;34m:\u001b[0m\u001b[0;34m\u001b[0m\u001b[0;34m\u001b[0m\u001b[0m\n\u001b[1;32m    120\u001b[0m         raise ValueError('Expecting 2 dimensional numpy.ndarray, got: ',\n\u001b[0;32m--> 121\u001b[0;31m                          data.shape)\n\u001b[0m\u001b[1;32m    122\u001b[0m     \u001b[0;31m# flatten the array by rows and ensure it is float32.  we try to avoid\u001b[0m\u001b[0;34m\u001b[0m\u001b[0;34m\u001b[0m\u001b[0;34m\u001b[0m\u001b[0m\n\u001b[1;32m    123\u001b[0m     \u001b[0;31m# data copies if possible (reshape returns a view when possible and we\u001b[0m\u001b[0;34m\u001b[0m\u001b[0;34m\u001b[0m\u001b[0;34m\u001b[0m\u001b[0m\n",
      "\u001b[0;31mValueError\u001b[0m: ('Expecting 2 dimensional numpy.ndarray, got: ', (800,))"
     ]
    }
   ],
   "source": [
    "predict_and_play_xgb(clf_xgb, X_test, y_test, 37)"
   ]
  },
  {
   "cell_type": "code",
   "execution_count": 116,
   "id": "formed-acquisition",
   "metadata": {},
   "outputs": [],
   "source": [
    "X_train, X_test, y_train, y_test = train_test_split(data, labels, test_size=0.2, random_state=1)"
   ]
  },
  {
   "cell_type": "markdown",
   "id": "painted-citation",
   "metadata": {},
   "source": [
    "Training a Stochastic Gradient Descent Support Vector Machine classifier."
   ]
  },
  {
   "cell_type": "code",
   "execution_count": 90,
   "id": "national-canadas",
   "metadata": {},
   "outputs": [],
   "source": [
    "clf_SGDSVM = linear_model.SGDClassifier(loss=\"hinge\", random_state=0)"
   ]
  },
  {
   "cell_type": "code",
   "execution_count": 93,
   "id": "positive-firewall",
   "metadata": {},
   "outputs": [
    {
     "name": "stderr",
     "output_type": "stream",
     "text": [
      "/home/jason/miniconda3/envs/beat2d/lib/python3.7/site-packages/librosa/core/spectrum.py:224: UserWarning: n_fft=2048 is too small for input signal of length=1210\n",
      "  n_fft, y.shape[-1]\n"
     ]
    },
    {
     "data": {
      "text/plain": [
       "array([0.51428571, 0.84210526, 0.82352941, 0.92      , 0.81355932])"
      ]
     },
     "execution_count": 93,
     "metadata": {},
     "output_type": "execute_result"
    }
   ],
   "source": [
    "model_selection.cross_val_score(clf_SGDSVM, preprocess_data(data), labels, cv=5, scoring=\"f1\")"
   ]
  },
  {
   "cell_type": "code",
   "execution_count": 48,
   "id": "molecular-publicity",
   "metadata": {
    "scrolled": true
   },
   "outputs": [
    {
     "name": "stderr",
     "output_type": "stream",
     "text": [
      "/home/jason/miniconda3/envs/beat2d/lib/python3.7/site-packages/librosa/core/spectrum.py:224: UserWarning: n_fft=2048 is too small for input signal of length=1210\n",
      "  n_fft, y.shape[-1]\n"
     ]
    },
    {
     "data": {
      "text/plain": [
       "SGDClassifier()"
      ]
     },
     "execution_count": 48,
     "metadata": {},
     "output_type": "execute_result"
    }
   ],
   "source": [
    "clf_SGDSVM.fit(preprocess_data(X_train), y_train)"
   ]
  },
  {
   "cell_type": "code",
   "execution_count": 55,
   "id": "packed-appointment",
   "metadata": {
    "scrolled": false
   },
   "outputs": [
    {
     "data": {
      "text/plain": [
       "0.8461538461538461"
      ]
     },
     "execution_count": 55,
     "metadata": {},
     "output_type": "execute_result"
    }
   ],
   "source": [
    "clf_SGDSVM.score(preprocess_data(X_test), y_test)"
   ]
  },
  {
   "cell_type": "code",
   "execution_count": 81,
   "id": "legitimate-conspiracy",
   "metadata": {},
   "outputs": [
    {
     "name": "stdout",
     "output_type": "stream",
     "text": [
      "0 0\n"
     ]
    },
    {
     "data": {
      "text/html": [
       "\n",
       "                <audio  controls=\"controls\" >\n",
       "                    <source src=\"data:audio/wav;base64,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\" type=\"audio/wav\" />\n",
       "                    Your browser does not support the audio element.\n",
       "                </audio>\n",
       "              "
      ],
      "text/plain": [
       "<IPython.lib.display.Audio object>"
      ]
     },
     "execution_count": 81,
     "metadata": {},
     "output_type": "execute_result"
    }
   ],
   "source": [
    "predict_and_play(clf_SGDSVM, X_test, y_test, 36)"
   ]
  },
  {
   "cell_type": "markdown",
   "id": "understanding-mechanics",
   "metadata": {},
   "source": [
    "Training a Stochastic Gradient Descent Logistic Regression classifier."
   ]
  },
  {
   "cell_type": "code",
   "execution_count": 94,
   "id": "therapeutic-button",
   "metadata": {},
   "outputs": [],
   "source": [
    "clf_SGDLGR = linear_model.SGDClassifier(loss=\"log\", random_state=0)"
   ]
  },
  {
   "cell_type": "code",
   "execution_count": 95,
   "id": "extreme-canon",
   "metadata": {},
   "outputs": [
    {
     "name": "stderr",
     "output_type": "stream",
     "text": [
      "/home/jason/miniconda3/envs/beat2d/lib/python3.7/site-packages/librosa/core/spectrum.py:224: UserWarning: n_fft=2048 is too small for input signal of length=1210\n",
      "  n_fft, y.shape[-1]\n"
     ]
    },
    {
     "data": {
      "text/plain": [
       "array([0.07407407, 0.45714286, 0.82539683, 0.8       , 0.8627451 ])"
      ]
     },
     "execution_count": 95,
     "metadata": {},
     "output_type": "execute_result"
    }
   ],
   "source": [
    "model_selection.cross_val_score(clf_SGDLGR, preprocess_data(data), labels, cv=5, scoring=\"f1\")"
   ]
  },
  {
   "cell_type": "code",
   "execution_count": 39,
   "id": "binding-dover",
   "metadata": {},
   "outputs": [
    {
     "data": {
      "text/plain": [
       "SGDClassifier(loss='log')"
      ]
     },
     "execution_count": 39,
     "metadata": {},
     "output_type": "execute_result"
    }
   ],
   "source": [
    "clf_SGDLGR.fit(X_train, y_train)"
   ]
  },
  {
   "cell_type": "code",
   "execution_count": 40,
   "id": "willing-sunrise",
   "metadata": {
    "scrolled": true
   },
   "outputs": [
    {
     "data": {
      "text/plain": [
       "0.7884615384615384"
      ]
     },
     "execution_count": 40,
     "metadata": {},
     "output_type": "execute_result"
    }
   ],
   "source": [
    "clf_SGDLGR.score(X_test, y_test)"
   ]
  },
  {
   "cell_type": "code",
   "execution_count": 41,
   "id": "fluid-polyester",
   "metadata": {},
   "outputs": [
    {
     "data": {
      "text/plain": [
       "array([1, 0, 1, 1, 0, 1, 1, 1, 1, 1, 1, 0, 0, 1, 1, 1, 1, 0, 1, 1, 1, 1,\n",
       "       1, 1, 1, 1, 0, 1, 1, 1, 0, 1, 0, 0, 1, 1, 0, 1, 1, 1, 1, 1, 0, 0,\n",
       "       0, 1, 1, 1, 1, 0, 1, 1])"
      ]
     },
     "execution_count": 41,
     "metadata": {},
     "output_type": "execute_result"
    }
   ],
   "source": [
    "clf_SGDLGR.predict(X_test)"
   ]
  },
  {
   "cell_type": "code",
   "execution_count": 85,
   "id": "attended-setting",
   "metadata": {},
   "outputs": [
    {
     "name": "stdout",
     "output_type": "stream",
     "text": [
      "0 0\n"
     ]
    },
    {
     "data": {
      "text/html": [
       "\n",
       "                <audio  controls=\"controls\" >\n",
       "                    <source src=\"data:audio/wav;base64,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\" type=\"audio/wav\" />\n",
       "                    Your browser does not support the audio element.\n",
       "                </audio>\n",
       "              "
      ],
      "text/plain": [
       "<IPython.lib.display.Audio object>"
      ]
     },
     "execution_count": 85,
     "metadata": {},
     "output_type": "execute_result"
    }
   ],
   "source": [
    "predict_and_play(clf_SGDLGR, X_test, y_test, 33)"
   ]
  },
  {
   "cell_type": "markdown",
   "id": "welcome-barrel",
   "metadata": {},
   "source": [
    "Training a Support Vector classifier."
   ]
  },
  {
   "cell_type": "code",
   "execution_count": 96,
   "id": "convertible-minister",
   "metadata": {},
   "outputs": [],
   "source": [
    "clf_SVC = svm.SVC(random_state=0)"
   ]
  },
  {
   "cell_type": "code",
   "execution_count": 97,
   "id": "passing-heating",
   "metadata": {},
   "outputs": [
    {
     "name": "stderr",
     "output_type": "stream",
     "text": [
      "/home/jason/miniconda3/envs/beat2d/lib/python3.7/site-packages/librosa/core/spectrum.py:224: UserWarning: n_fft=2048 is too small for input signal of length=1210\n",
      "  n_fft, y.shape[-1]\n"
     ]
    },
    {
     "data": {
      "text/plain": [
       "array([0.80701754, 0.8627451 , 0.7755102 , 0.83636364, 0.72      ])"
      ]
     },
     "execution_count": 97,
     "metadata": {},
     "output_type": "execute_result"
    }
   ],
   "source": [
    "model_selection.cross_val_score(clf_SVC, preprocess_data(data), labels, cv=5, scoring=\"f1\")"
   ]
  },
  {
   "cell_type": "code",
   "execution_count": 117,
   "id": "coordinate-sailing",
   "metadata": {},
   "outputs": [
    {
     "name": "stderr",
     "output_type": "stream",
     "text": [
      "/home/jason/miniconda3/envs/beat2d/lib/python3.7/site-packages/librosa/core/spectrum.py:224: UserWarning: n_fft=2048 is too small for input signal of length=1210\n",
      "  n_fft, y.shape[-1]\n"
     ]
    },
    {
     "data": {
      "text/plain": [
       "SVC(random_state=0)"
      ]
     },
     "execution_count": 117,
     "metadata": {},
     "output_type": "execute_result"
    }
   ],
   "source": [
    "clf_SVC.fit(preprocess_data(X_train), y_train)"
   ]
  },
  {
   "cell_type": "code",
   "execution_count": 115,
   "id": "marked-sleep",
   "metadata": {},
   "outputs": [
    {
     "ename": "NotFittedError",
     "evalue": "This SVC instance is not fitted yet. Call 'fit' with appropriate arguments before using this estimator.",
     "output_type": "error",
     "traceback": [
      "\u001b[0;31m---------------------------------------------------------------------------\u001b[0m",
      "\u001b[0;31mNotFittedError\u001b[0m                            Traceback (most recent call last)",
      "\u001b[0;32m<ipython-input-115-7d8c67874f10>\u001b[0m in \u001b[0;36m<module>\u001b[0;34m\u001b[0m\n\u001b[0;32m----> 1\u001b[0;31m \u001b[0mclf_SVC\u001b[0m\u001b[0;34m.\u001b[0m\u001b[0mscore\u001b[0m\u001b[0;34m(\u001b[0m\u001b[0mX_test\u001b[0m\u001b[0;34m,\u001b[0m \u001b[0my_test\u001b[0m\u001b[0;34m)\u001b[0m\u001b[0;34m\u001b[0m\u001b[0;34m\u001b[0m\u001b[0m\n\u001b[0m",
      "\u001b[0;32m~/miniconda3/envs/beat2d/lib/python3.7/site-packages/sklearn/base.py\u001b[0m in \u001b[0;36mscore\u001b[0;34m(self, X, y, sample_weight)\u001b[0m\n\u001b[1;32m    497\u001b[0m         \"\"\"\n\u001b[1;32m    498\u001b[0m         \u001b[0;32mfrom\u001b[0m \u001b[0;34m.\u001b[0m\u001b[0mmetrics\u001b[0m \u001b[0;32mimport\u001b[0m \u001b[0maccuracy_score\u001b[0m\u001b[0;34m\u001b[0m\u001b[0;34m\u001b[0m\u001b[0m\n\u001b[0;32m--> 499\u001b[0;31m         \u001b[0;32mreturn\u001b[0m \u001b[0maccuracy_score\u001b[0m\u001b[0;34m(\u001b[0m\u001b[0my\u001b[0m\u001b[0;34m,\u001b[0m \u001b[0mself\u001b[0m\u001b[0;34m.\u001b[0m\u001b[0mpredict\u001b[0m\u001b[0;34m(\u001b[0m\u001b[0mX\u001b[0m\u001b[0;34m)\u001b[0m\u001b[0;34m,\u001b[0m \u001b[0msample_weight\u001b[0m\u001b[0;34m=\u001b[0m\u001b[0msample_weight\u001b[0m\u001b[0;34m)\u001b[0m\u001b[0;34m\u001b[0m\u001b[0;34m\u001b[0m\u001b[0m\n\u001b[0m\u001b[1;32m    500\u001b[0m \u001b[0;34m\u001b[0m\u001b[0m\n\u001b[1;32m    501\u001b[0m     \u001b[0;32mdef\u001b[0m \u001b[0m_more_tags\u001b[0m\u001b[0;34m(\u001b[0m\u001b[0mself\u001b[0m\u001b[0;34m)\u001b[0m\u001b[0;34m:\u001b[0m\u001b[0;34m\u001b[0m\u001b[0;34m\u001b[0m\u001b[0m\n",
      "\u001b[0;32m~/miniconda3/envs/beat2d/lib/python3.7/site-packages/sklearn/svm/_base.py\u001b[0m in \u001b[0;36mpredict\u001b[0;34m(self, X)\u001b[0m\n\u001b[1;32m    603\u001b[0m             \u001b[0mClass\u001b[0m \u001b[0mlabels\u001b[0m \u001b[0;32mfor\u001b[0m \u001b[0msamples\u001b[0m \u001b[0;32min\u001b[0m \u001b[0mX\u001b[0m\u001b[0;34m.\u001b[0m\u001b[0;34m\u001b[0m\u001b[0;34m\u001b[0m\u001b[0m\n\u001b[1;32m    604\u001b[0m         \"\"\"\n\u001b[0;32m--> 605\u001b[0;31m         \u001b[0mcheck_is_fitted\u001b[0m\u001b[0;34m(\u001b[0m\u001b[0mself\u001b[0m\u001b[0;34m)\u001b[0m\u001b[0;34m\u001b[0m\u001b[0;34m\u001b[0m\u001b[0m\n\u001b[0m\u001b[1;32m    606\u001b[0m         \u001b[0;32mif\u001b[0m \u001b[0mself\u001b[0m\u001b[0;34m.\u001b[0m\u001b[0mbreak_ties\u001b[0m \u001b[0;32mand\u001b[0m \u001b[0mself\u001b[0m\u001b[0;34m.\u001b[0m\u001b[0mdecision_function_shape\u001b[0m \u001b[0;34m==\u001b[0m \u001b[0;34m'ovo'\u001b[0m\u001b[0;34m:\u001b[0m\u001b[0;34m\u001b[0m\u001b[0;34m\u001b[0m\u001b[0m\n\u001b[1;32m    607\u001b[0m             raise ValueError(\"break_ties must be False when \"\n",
      "\u001b[0;32m~/miniconda3/envs/beat2d/lib/python3.7/site-packages/sklearn/utils/validation.py\u001b[0m in \u001b[0;36minner_f\u001b[0;34m(*args, **kwargs)\u001b[0m\n\u001b[1;32m     70\u001b[0m                           FutureWarning)\n\u001b[1;32m     71\u001b[0m         \u001b[0mkwargs\u001b[0m\u001b[0;34m.\u001b[0m\u001b[0mupdate\u001b[0m\u001b[0;34m(\u001b[0m\u001b[0;34m{\u001b[0m\u001b[0mk\u001b[0m\u001b[0;34m:\u001b[0m \u001b[0marg\u001b[0m \u001b[0;32mfor\u001b[0m \u001b[0mk\u001b[0m\u001b[0;34m,\u001b[0m \u001b[0marg\u001b[0m \u001b[0;32min\u001b[0m \u001b[0mzip\u001b[0m\u001b[0;34m(\u001b[0m\u001b[0msig\u001b[0m\u001b[0;34m.\u001b[0m\u001b[0mparameters\u001b[0m\u001b[0;34m,\u001b[0m \u001b[0margs\u001b[0m\u001b[0;34m)\u001b[0m\u001b[0;34m}\u001b[0m\u001b[0;34m)\u001b[0m\u001b[0;34m\u001b[0m\u001b[0;34m\u001b[0m\u001b[0m\n\u001b[0;32m---> 72\u001b[0;31m         \u001b[0;32mreturn\u001b[0m \u001b[0mf\u001b[0m\u001b[0;34m(\u001b[0m\u001b[0;34m**\u001b[0m\u001b[0mkwargs\u001b[0m\u001b[0;34m)\u001b[0m\u001b[0;34m\u001b[0m\u001b[0;34m\u001b[0m\u001b[0m\n\u001b[0m\u001b[1;32m     73\u001b[0m     \u001b[0;32mreturn\u001b[0m \u001b[0minner_f\u001b[0m\u001b[0;34m\u001b[0m\u001b[0;34m\u001b[0m\u001b[0m\n\u001b[1;32m     74\u001b[0m \u001b[0;34m\u001b[0m\u001b[0m\n",
      "\u001b[0;32m~/miniconda3/envs/beat2d/lib/python3.7/site-packages/sklearn/utils/validation.py\u001b[0m in \u001b[0;36mcheck_is_fitted\u001b[0;34m(estimator, attributes, msg, all_or_any)\u001b[0m\n\u001b[1;32m   1017\u001b[0m \u001b[0;34m\u001b[0m\u001b[0m\n\u001b[1;32m   1018\u001b[0m     \u001b[0;32mif\u001b[0m \u001b[0;32mnot\u001b[0m \u001b[0mattrs\u001b[0m\u001b[0;34m:\u001b[0m\u001b[0;34m\u001b[0m\u001b[0;34m\u001b[0m\u001b[0m\n\u001b[0;32m-> 1019\u001b[0;31m         \u001b[0;32mraise\u001b[0m \u001b[0mNotFittedError\u001b[0m\u001b[0;34m(\u001b[0m\u001b[0mmsg\u001b[0m \u001b[0;34m%\u001b[0m \u001b[0;34m{\u001b[0m\u001b[0;34m'name'\u001b[0m\u001b[0;34m:\u001b[0m \u001b[0mtype\u001b[0m\u001b[0;34m(\u001b[0m\u001b[0mestimator\u001b[0m\u001b[0;34m)\u001b[0m\u001b[0;34m.\u001b[0m\u001b[0m__name__\u001b[0m\u001b[0;34m}\u001b[0m\u001b[0;34m)\u001b[0m\u001b[0;34m\u001b[0m\u001b[0;34m\u001b[0m\u001b[0m\n\u001b[0m\u001b[1;32m   1020\u001b[0m \u001b[0;34m\u001b[0m\u001b[0m\n\u001b[1;32m   1021\u001b[0m \u001b[0;34m\u001b[0m\u001b[0m\n",
      "\u001b[0;31mNotFittedError\u001b[0m: This SVC instance is not fitted yet. Call 'fit' with appropriate arguments before using this estimator."
     ]
    }
   ],
   "source": [
    "clf_SVC.score(X_test, y_test)"
   ]
  },
  {
   "cell_type": "code",
   "execution_count": null,
   "id": "brutal-immigration",
   "metadata": {},
   "outputs": [],
   "source": [
    "clf_SVC.predict(X_test)"
   ]
  },
  {
   "cell_type": "code",
   "execution_count": 124,
   "id": "chief-vampire",
   "metadata": {},
   "outputs": [
    {
     "name": "stdout",
     "output_type": "stream",
     "text": [
      "0 1\n"
     ]
    },
    {
     "data": {
      "text/html": [
       "\n",
       "                <audio  controls=\"controls\" >\n",
       "                    <source src=\"data:audio/wav;base64,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\" type=\"audio/wav\" />\n",
       "                    Your browser does not support the audio element.\n",
       "                </audio>\n",
       "              "
      ],
      "text/plain": [
       "<IPython.lib.display.Audio object>"
      ]
     },
     "execution_count": 124,
     "metadata": {},
     "output_type": "execute_result"
    }
   ],
   "source": [
    "predict_and_play(clf_SVC, X_test, y_test, 37)"
   ]
  },
  {
   "cell_type": "markdown",
   "id": "transparent-mercy",
   "metadata": {},
   "source": [
    "Training a Boosted Tree classifier."
   ]
  },
  {
   "cell_type": "code",
   "execution_count": 25,
   "id": "social-personality",
   "metadata": {},
   "outputs": [],
   "source": [
    "dtrain = xgb.DMatrix(np.array(X_train), label=y_train)\n",
    "dtest = xgb.DMatrix(np.array(X_test), label=y_test)"
   ]
  },
  {
   "cell_type": "code",
   "execution_count": 26,
   "id": "turkish-danish",
   "metadata": {},
   "outputs": [],
   "source": [
    "clf_xgb = xgb.XGBClassifier(objective=\"reg:logistic\", learning_rate=0.1, label_encoder=False)"
   ]
  },
  {
   "cell_type": "code",
   "execution_count": 99,
   "id": "italian-rwanda",
   "metadata": {},
   "outputs": [
    {
     "name": "stderr",
     "output_type": "stream",
     "text": [
      "/home/jason/miniconda3/envs/beat2d/lib/python3.7/site-packages/librosa/core/spectrum.py:224: UserWarning: n_fft=2048 is too small for input signal of length=1210\n",
      "  n_fft, y.shape[-1]\n",
      "/home/jason/miniconda3/envs/beat2d/lib/python3.7/site-packages/xgboost/sklearn.py:888: UserWarning: The use of label encoder in XGBClassifier is deprecated and will be removed in a future release. To remove this warning, do the following: 1) Pass option use_label_encoder=False when constructing XGBClassifier object; and 2) Encode your labels (y) as integers starting with 0, i.e. 0, 1, 2, ..., [num_class - 1].\n",
      "  warnings.warn(label_encoder_deprecation_msg, UserWarning)\n"
     ]
    },
    {
     "name": "stdout",
     "output_type": "stream",
     "text": [
      "[19:28:26] WARNING: ../src/learner.cc:541: \n",
      "Parameters: { label_encoder } might not be used.\n",
      "\n",
      "  This may not be accurate due to some parameters are only used in language bindings but\n",
      "  passed down to XGBoost core.  Or some parameters are not used but slip through this\n",
      "  verification. Please open an issue if you find above cases.\n",
      "\n",
      "\n",
      "[19:28:26] WARNING: ../src/learner.cc:541: \n",
      "Parameters: { label_encoder } might not be used.\n",
      "\n",
      "  This may not be accurate due to some parameters are only used in language bindings but\n",
      "  passed down to XGBoost core.  Or some parameters are not used but slip through this\n",
      "  verification. Please open an issue if you find above cases.\n",
      "\n",
      "\n",
      "[19:28:26] WARNING: ../src/learner.cc:541: \n",
      "Parameters: { label_encoder } might not be used.\n",
      "\n",
      "  This may not be accurate due to some parameters are only used in language bindings but\n",
      "  passed down to XGBoost core.  Or some parameters are not used but slip through this\n",
      "  verification. Please open an issue if you find above cases.\n",
      "\n",
      "\n",
      "[19:28:27] WARNING: ../src/learner.cc:541: \n",
      "Parameters: { label_encoder } might not be used.\n",
      "\n",
      "  This may not be accurate due to some parameters are only used in language bindings but\n",
      "  passed down to XGBoost core.  Or some parameters are not used but slip through this\n",
      "  verification. Please open an issue if you find above cases.\n",
      "\n",
      "\n",
      "[19:28:27] WARNING: ../src/learner.cc:541: \n",
      "Parameters: { label_encoder } might not be used.\n",
      "\n",
      "  This may not be accurate due to some parameters are only used in language bindings but\n",
      "  passed down to XGBoost core.  Or some parameters are not used but slip through this\n",
      "  verification. Please open an issue if you find above cases.\n",
      "\n",
      "\n"
     ]
    },
    {
     "data": {
      "text/plain": [
       "array([0.81481481, 0.88      , 0.81632653, 0.90566038, 0.88461538])"
      ]
     },
     "execution_count": 99,
     "metadata": {},
     "output_type": "execute_result"
    }
   ],
   "source": [
    "model_selection.cross_val_score(clf_xgb, np.array(preprocess_data(data)), labels, cv=5, scoring=\"f1\")"
   ]
  },
  {
   "cell_type": "code",
   "execution_count": 102,
   "id": "ceramic-filling",
   "metadata": {},
   "outputs": [
    {
     "name": "stderr",
     "output_type": "stream",
     "text": [
      "/home/jason/miniconda3/envs/beat2d/lib/python3.7/site-packages/librosa/core/spectrum.py:224: UserWarning: n_fft=2048 is too small for input signal of length=1210\n",
      "  n_fft, y.shape[-1]\n"
     ]
    },
    {
     "name": "stdout",
     "output_type": "stream",
     "text": [
      "[19:28:53] WARNING: ../src/learner.cc:541: \n",
      "Parameters: { label_encoder } might not be used.\n",
      "\n",
      "  This may not be accurate due to some parameters are only used in language bindings but\n",
      "  passed down to XGBoost core.  Or some parameters are not used but slip through this\n",
      "  verification. Please open an issue if you find above cases.\n",
      "\n",
      "\n"
     ]
    },
    {
     "data": {
      "text/plain": [
       "XGBClassifier(base_score=0.5, booster='gbtree', colsample_bylevel=1,\n",
       "              colsample_bynode=1, colsample_bytree=1, gamma=0, gpu_id=-1,\n",
       "              importance_type='gain', interaction_constraints='',\n",
       "              label_encoder=False, learning_rate=0.1, max_delta_step=0,\n",
       "              max_depth=6, min_child_weight=1, missing=nan,\n",
       "              monotone_constraints='()', n_estimators=100, n_jobs=8,\n",
       "              num_parallel_tree=1, objective='reg:logistic', random_state=0,\n",
       "              reg_alpha=0, reg_lambda=1, scale_pos_weight=1, subsample=1,\n",
       "              tree_method='exact', validate_parameters=1, verbosity=None)"
      ]
     },
     "execution_count": 102,
     "metadata": {},
     "output_type": "execute_result"
    }
   ],
   "source": [
    "clf_xgb.fit(np.array(preprocess_data(X_train)), y_train)"
   ]
  },
  {
   "cell_type": "code",
   "execution_count": 125,
   "id": "later-component",
   "metadata": {},
   "outputs": [
    {
     "ename": "ParameterError",
     "evalue": "Audio data must be of type numpy.ndarray",
     "output_type": "error",
     "traceback": [
      "\u001b[0;31m---------------------------------------------------------------------------\u001b[0m",
      "\u001b[0;31mParameterError\u001b[0m                            Traceback (most recent call last)",
      "\u001b[0;32m<ipython-input-125-9bc624e2e351>\u001b[0m in \u001b[0;36m<module>\u001b[0;34m\u001b[0m\n\u001b[0;32m----> 1\u001b[0;31m \u001b[0mpredict_and_play_xgb\u001b[0m\u001b[0;34m(\u001b[0m\u001b[0mclf_xgb\u001b[0m\u001b[0;34m,\u001b[0m \u001b[0mdata\u001b[0m\u001b[0;34m,\u001b[0m \u001b[0mlabels\u001b[0m\u001b[0;34m,\u001b[0m \u001b[0;36m37\u001b[0m\u001b[0;34m)\u001b[0m\u001b[0;34m\u001b[0m\u001b[0;34m\u001b[0m\u001b[0m\n\u001b[0m",
      "\u001b[0;32m<ipython-input-122-7606609ce9f6>\u001b[0m in \u001b[0;36mpredict_and_play_xgb\u001b[0;34m(model, data, labels, idx)\u001b[0m\n\u001b[1;32m      6\u001b[0m \u001b[0;34m\u001b[0m\u001b[0m\n\u001b[1;32m      7\u001b[0m \u001b[0;32mdef\u001b[0m \u001b[0mpredict_and_play_xgb\u001b[0m\u001b[0;34m(\u001b[0m\u001b[0mmodel\u001b[0m\u001b[0;34m,\u001b[0m \u001b[0mdata\u001b[0m\u001b[0;34m,\u001b[0m \u001b[0mlabels\u001b[0m\u001b[0;34m,\u001b[0m \u001b[0midx\u001b[0m\u001b[0;34m)\u001b[0m\u001b[0;34m:\u001b[0m\u001b[0;34m\u001b[0m\u001b[0;34m\u001b[0m\u001b[0m\n\u001b[0;32m----> 8\u001b[0;31m     \u001b[0mpreds\u001b[0m \u001b[0;34m=\u001b[0m \u001b[0mmodel\u001b[0m\u001b[0;34m.\u001b[0m\u001b[0mpredict\u001b[0m\u001b[0;34m(\u001b[0m\u001b[0mnp\u001b[0m\u001b[0;34m.\u001b[0m\u001b[0marray\u001b[0m\u001b[0;34m(\u001b[0m\u001b[0mpreprocess_data\u001b[0m\u001b[0;34m(\u001b[0m\u001b[0mdata\u001b[0m\u001b[0;34m[\u001b[0m\u001b[0midx\u001b[0m\u001b[0;34m]\u001b[0m\u001b[0;34m)\u001b[0m\u001b[0;34m[\u001b[0m\u001b[0;36m0\u001b[0m\u001b[0;34m]\u001b[0m\u001b[0;34m)\u001b[0m\u001b[0;34m)\u001b[0m\u001b[0;34m\u001b[0m\u001b[0;34m\u001b[0m\u001b[0m\n\u001b[0m\u001b[1;32m      9\u001b[0m \u001b[0;34m\u001b[0m\u001b[0m\n\u001b[1;32m     10\u001b[0m     \u001b[0mprint\u001b[0m\u001b[0;34m(\u001b[0m\u001b[0mpreds\u001b[0m\u001b[0;34m[\u001b[0m\u001b[0;36m0\u001b[0m\u001b[0;34m]\u001b[0m\u001b[0;34m,\u001b[0m \u001b[0mlabels\u001b[0m\u001b[0;34m[\u001b[0m\u001b[0midx\u001b[0m\u001b[0;34m]\u001b[0m\u001b[0;34m)\u001b[0m\u001b[0;34m\u001b[0m\u001b[0;34m\u001b[0m\u001b[0m\n",
      "\u001b[0;32m<ipython-input-7-40f709fa9eb3>\u001b[0m in \u001b[0;36mpreprocess_data\u001b[0;34m(data, n_mfcc, length)\u001b[0m\n\u001b[1;32m      5\u001b[0m         \u001b[0mpreprocessed_d\u001b[0m\u001b[0;34m:\u001b[0m \u001b[0mnp\u001b[0m\u001b[0;34m.\u001b[0m\u001b[0mndarray\u001b[0m \u001b[0;34m=\u001b[0m \u001b[0mnp\u001b[0m\u001b[0;34m.\u001b[0m\u001b[0mzeros\u001b[0m\u001b[0;34m(\u001b[0m\u001b[0;34m(\u001b[0m\u001b[0mn_mfcc\u001b[0m\u001b[0;34m,\u001b[0m \u001b[0mlength\u001b[0m\u001b[0;34m)\u001b[0m\u001b[0;34m)\u001b[0m\u001b[0;34m\u001b[0m\u001b[0;34m\u001b[0m\u001b[0m\n\u001b[1;32m      6\u001b[0m \u001b[0;34m\u001b[0m\u001b[0m\n\u001b[0;32m----> 7\u001b[0;31m         \u001b[0mmfcc_d\u001b[0m\u001b[0;34m:\u001b[0m \u001b[0mnp\u001b[0m\u001b[0;34m.\u001b[0m\u001b[0mndarray\u001b[0m \u001b[0;34m=\u001b[0m \u001b[0mlibrosa\u001b[0m\u001b[0;34m.\u001b[0m\u001b[0mfeature\u001b[0m\u001b[0;34m.\u001b[0m\u001b[0mmfcc\u001b[0m\u001b[0;34m(\u001b[0m\u001b[0md\u001b[0m\u001b[0;34m,\u001b[0m \u001b[0msr\u001b[0m\u001b[0;34m=\u001b[0m\u001b[0msettings\u001b[0m\u001b[0;34m.\u001b[0m\u001b[0mSAMPLE_RATE\u001b[0m\u001b[0;34m,\u001b[0m \u001b[0mn_mfcc\u001b[0m\u001b[0;34m=\u001b[0m\u001b[0mn_mfcc\u001b[0m\u001b[0;34m)\u001b[0m\u001b[0;34m\u001b[0m\u001b[0;34m\u001b[0m\u001b[0m\n\u001b[0m\u001b[1;32m      8\u001b[0m         \u001b[0mpreprocessed_d\u001b[0m\u001b[0;34m[\u001b[0m\u001b[0;34m:\u001b[0m\u001b[0;34m,\u001b[0m \u001b[0;34m:\u001b[0m\u001b[0mmin\u001b[0m\u001b[0;34m(\u001b[0m\u001b[0mlength\u001b[0m\u001b[0;34m,\u001b[0m \u001b[0mmfcc_d\u001b[0m\u001b[0;34m.\u001b[0m\u001b[0mshape\u001b[0m\u001b[0;34m[\u001b[0m\u001b[0;36m1\u001b[0m\u001b[0;34m]\u001b[0m\u001b[0;34m)\u001b[0m\u001b[0;34m]\u001b[0m \u001b[0;34m=\u001b[0m \u001b[0mmfcc_d\u001b[0m\u001b[0;34m[\u001b[0m\u001b[0;34m:\u001b[0m\u001b[0;34m,\u001b[0m \u001b[0;34m:\u001b[0m\u001b[0mmin\u001b[0m\u001b[0;34m(\u001b[0m\u001b[0mlength\u001b[0m\u001b[0;34m,\u001b[0m \u001b[0mmfcc_d\u001b[0m\u001b[0;34m.\u001b[0m\u001b[0mshape\u001b[0m\u001b[0;34m[\u001b[0m\u001b[0;36m1\u001b[0m\u001b[0;34m]\u001b[0m\u001b[0;34m)\u001b[0m\u001b[0;34m]\u001b[0m\u001b[0;34m\u001b[0m\u001b[0;34m\u001b[0m\u001b[0m\n\u001b[1;32m      9\u001b[0m \u001b[0;34m\u001b[0m\u001b[0m\n",
      "\u001b[0;32m~/miniconda3/envs/beat2d/lib/python3.7/site-packages/librosa/feature/spectral.py\u001b[0m in \u001b[0;36mmfcc\u001b[0;34m(y, sr, S, n_mfcc, dct_type, norm, lifter, **kwargs)\u001b[0m\n\u001b[1;32m   1850\u001b[0m \u001b[0;34m\u001b[0m\u001b[0m\n\u001b[1;32m   1851\u001b[0m     \u001b[0;32mif\u001b[0m \u001b[0mS\u001b[0m \u001b[0;32mis\u001b[0m \u001b[0;32mNone\u001b[0m\u001b[0;34m:\u001b[0m\u001b[0;34m\u001b[0m\u001b[0;34m\u001b[0m\u001b[0m\n\u001b[0;32m-> 1852\u001b[0;31m         \u001b[0mS\u001b[0m \u001b[0;34m=\u001b[0m \u001b[0mpower_to_db\u001b[0m\u001b[0;34m(\u001b[0m\u001b[0mmelspectrogram\u001b[0m\u001b[0;34m(\u001b[0m\u001b[0my\u001b[0m\u001b[0;34m=\u001b[0m\u001b[0my\u001b[0m\u001b[0;34m,\u001b[0m \u001b[0msr\u001b[0m\u001b[0;34m=\u001b[0m\u001b[0msr\u001b[0m\u001b[0;34m,\u001b[0m \u001b[0;34m**\u001b[0m\u001b[0mkwargs\u001b[0m\u001b[0;34m)\u001b[0m\u001b[0;34m)\u001b[0m\u001b[0;34m\u001b[0m\u001b[0;34m\u001b[0m\u001b[0m\n\u001b[0m\u001b[1;32m   1853\u001b[0m \u001b[0;34m\u001b[0m\u001b[0m\n\u001b[1;32m   1854\u001b[0m     \u001b[0mM\u001b[0m \u001b[0;34m=\u001b[0m \u001b[0mscipy\u001b[0m\u001b[0;34m.\u001b[0m\u001b[0mfftpack\u001b[0m\u001b[0;34m.\u001b[0m\u001b[0mdct\u001b[0m\u001b[0;34m(\u001b[0m\u001b[0mS\u001b[0m\u001b[0;34m,\u001b[0m \u001b[0maxis\u001b[0m\u001b[0;34m=\u001b[0m\u001b[0;36m0\u001b[0m\u001b[0;34m,\u001b[0m \u001b[0mtype\u001b[0m\u001b[0;34m=\u001b[0m\u001b[0mdct_type\u001b[0m\u001b[0;34m,\u001b[0m \u001b[0mnorm\u001b[0m\u001b[0;34m=\u001b[0m\u001b[0mnorm\u001b[0m\u001b[0;34m)\u001b[0m\u001b[0;34m[\u001b[0m\u001b[0;34m:\u001b[0m\u001b[0mn_mfcc\u001b[0m\u001b[0;34m]\u001b[0m\u001b[0;34m\u001b[0m\u001b[0;34m\u001b[0m\u001b[0m\n",
      "\u001b[0;32m~/miniconda3/envs/beat2d/lib/python3.7/site-packages/librosa/feature/spectral.py\u001b[0m in \u001b[0;36mmelspectrogram\u001b[0;34m(y, sr, S, n_fft, hop_length, win_length, window, center, pad_mode, power, **kwargs)\u001b[0m\n\u001b[1;32m   2003\u001b[0m         \u001b[0mwindow\u001b[0m\u001b[0;34m=\u001b[0m\u001b[0mwindow\u001b[0m\u001b[0;34m,\u001b[0m\u001b[0;34m\u001b[0m\u001b[0;34m\u001b[0m\u001b[0m\n\u001b[1;32m   2004\u001b[0m         \u001b[0mcenter\u001b[0m\u001b[0;34m=\u001b[0m\u001b[0mcenter\u001b[0m\u001b[0;34m,\u001b[0m\u001b[0;34m\u001b[0m\u001b[0;34m\u001b[0m\u001b[0m\n\u001b[0;32m-> 2005\u001b[0;31m         \u001b[0mpad_mode\u001b[0m\u001b[0;34m=\u001b[0m\u001b[0mpad_mode\u001b[0m\u001b[0;34m,\u001b[0m\u001b[0;34m\u001b[0m\u001b[0;34m\u001b[0m\u001b[0m\n\u001b[0m\u001b[1;32m   2006\u001b[0m     )\n\u001b[1;32m   2007\u001b[0m \u001b[0;34m\u001b[0m\u001b[0m\n",
      "\u001b[0;32m~/miniconda3/envs/beat2d/lib/python3.7/site-packages/librosa/core/spectrum.py\u001b[0m in \u001b[0;36m_spectrogram\u001b[0;34m(y, S, n_fft, hop_length, power, win_length, window, center, pad_mode)\u001b[0m\n\u001b[1;32m   2517\u001b[0m                     \u001b[0mcenter\u001b[0m\u001b[0;34m=\u001b[0m\u001b[0mcenter\u001b[0m\u001b[0;34m,\u001b[0m\u001b[0;34m\u001b[0m\u001b[0;34m\u001b[0m\u001b[0m\n\u001b[1;32m   2518\u001b[0m                     \u001b[0mwindow\u001b[0m\u001b[0;34m=\u001b[0m\u001b[0mwindow\u001b[0m\u001b[0;34m,\u001b[0m\u001b[0;34m\u001b[0m\u001b[0;34m\u001b[0m\u001b[0m\n\u001b[0;32m-> 2519\u001b[0;31m                     \u001b[0mpad_mode\u001b[0m\u001b[0;34m=\u001b[0m\u001b[0mpad_mode\u001b[0m\u001b[0;34m,\u001b[0m\u001b[0;34m\u001b[0m\u001b[0;34m\u001b[0m\u001b[0m\n\u001b[0m\u001b[1;32m   2520\u001b[0m                 )\n\u001b[1;32m   2521\u001b[0m             )\n",
      "\u001b[0;32m~/miniconda3/envs/beat2d/lib/python3.7/site-packages/librosa/core/spectrum.py\u001b[0m in \u001b[0;36mstft\u001b[0;34m(y, n_fft, hop_length, win_length, window, center, dtype, pad_mode)\u001b[0m\n\u001b[1;32m    215\u001b[0m \u001b[0;34m\u001b[0m\u001b[0m\n\u001b[1;32m    216\u001b[0m     \u001b[0;31m# Check audio is valid\u001b[0m\u001b[0;34m\u001b[0m\u001b[0;34m\u001b[0m\u001b[0;34m\u001b[0m\u001b[0m\n\u001b[0;32m--> 217\u001b[0;31m     \u001b[0mutil\u001b[0m\u001b[0;34m.\u001b[0m\u001b[0mvalid_audio\u001b[0m\u001b[0;34m(\u001b[0m\u001b[0my\u001b[0m\u001b[0;34m)\u001b[0m\u001b[0;34m\u001b[0m\u001b[0;34m\u001b[0m\u001b[0m\n\u001b[0m\u001b[1;32m    218\u001b[0m \u001b[0;34m\u001b[0m\u001b[0m\n\u001b[1;32m    219\u001b[0m     \u001b[0;31m# Pad the time series so that frames are centered\u001b[0m\u001b[0;34m\u001b[0m\u001b[0;34m\u001b[0m\u001b[0;34m\u001b[0m\u001b[0m\n",
      "\u001b[0;32m~/miniconda3/envs/beat2d/lib/python3.7/site-packages/librosa/util/utils.py\u001b[0m in \u001b[0;36mvalid_audio\u001b[0;34m(y, mono)\u001b[0m\n\u001b[1;32m    285\u001b[0m \u001b[0;34m\u001b[0m\u001b[0m\n\u001b[1;32m    286\u001b[0m     \u001b[0;32mif\u001b[0m \u001b[0;32mnot\u001b[0m \u001b[0misinstance\u001b[0m\u001b[0;34m(\u001b[0m\u001b[0my\u001b[0m\u001b[0;34m,\u001b[0m \u001b[0mnp\u001b[0m\u001b[0;34m.\u001b[0m\u001b[0mndarray\u001b[0m\u001b[0;34m)\u001b[0m\u001b[0;34m:\u001b[0m\u001b[0;34m\u001b[0m\u001b[0;34m\u001b[0m\u001b[0m\n\u001b[0;32m--> 287\u001b[0;31m         \u001b[0;32mraise\u001b[0m \u001b[0mParameterError\u001b[0m\u001b[0;34m(\u001b[0m\u001b[0;34m\"Audio data must be of type numpy.ndarray\"\u001b[0m\u001b[0;34m)\u001b[0m\u001b[0;34m\u001b[0m\u001b[0;34m\u001b[0m\u001b[0m\n\u001b[0m\u001b[1;32m    288\u001b[0m \u001b[0;34m\u001b[0m\u001b[0m\n\u001b[1;32m    289\u001b[0m     \u001b[0;32mif\u001b[0m \u001b[0;32mnot\u001b[0m \u001b[0mnp\u001b[0m\u001b[0;34m.\u001b[0m\u001b[0missubdtype\u001b[0m\u001b[0;34m(\u001b[0m\u001b[0my\u001b[0m\u001b[0;34m.\u001b[0m\u001b[0mdtype\u001b[0m\u001b[0;34m,\u001b[0m \u001b[0mnp\u001b[0m\u001b[0;34m.\u001b[0m\u001b[0mfloating\u001b[0m\u001b[0;34m)\u001b[0m\u001b[0;34m:\u001b[0m\u001b[0;34m\u001b[0m\u001b[0;34m\u001b[0m\u001b[0m\n",
      "\u001b[0;31mParameterError\u001b[0m: Audio data must be of type numpy.ndarray"
     ]
    }
   ],
   "source": [
    "predict_and_play_xgb(clf_xgb, data, labels, 37)"
   ]
  },
  {
   "cell_type": "code",
   "execution_count": 104,
   "id": "actual-envelope",
   "metadata": {},
   "outputs": [],
   "source": [
    "preds = clf_xgb.predict(np.array(preprocess_data(X_test)))"
   ]
  },
  {
   "cell_type": "code",
   "execution_count": 105,
   "id": "natural-texas",
   "metadata": {},
   "outputs": [],
   "source": [
    "rmse = np.sqrt(metrics.mean_squared_error(y_test, preds))"
   ]
  },
  {
   "cell_type": "code",
   "execution_count": 106,
   "id": "simplified-great",
   "metadata": {
    "scrolled": true
   },
   "outputs": [
    {
     "name": "stdout",
     "output_type": "stream",
     "text": [
      "RMSE: 0.196116\n"
     ]
    }
   ],
   "source": [
    "print(\"RMSE: %f\" % (rmse))"
   ]
  },
  {
   "cell_type": "code",
   "execution_count": 107,
   "id": "cosmetic-bundle",
   "metadata": {},
   "outputs": [],
   "source": [
    "clf_xgb.save_model(\"xgb_model.model\")"
   ]
  },
  {
   "cell_type": "code",
   "execution_count": 108,
   "id": "robust-wings",
   "metadata": {},
   "outputs": [
    {
     "data": {
      "text/plain": [
       "array([1, 0, 1, 1, 1, 1, 1, 0, 1, 1, 1, 0, 0, 1, 1, 1, 1, 0, 1, 1, 0, 0,\n",
       "       1, 1, 1, 0, 0, 1, 0, 1, 0, 0, 0, 0, 0, 1, 0, 1, 1, 1, 1, 1, 0, 0,\n",
       "       0, 1, 1, 0, 1, 0, 0, 0])"
      ]
     },
     "execution_count": 108,
     "metadata": {},
     "output_type": "execute_result"
    }
   ],
   "source": [
    "preds"
   ]
  }
 ],
 "metadata": {
  "kernelspec": {
   "display_name": "Python 3",
   "language": "python",
   "name": "python3"
  },
  "language_info": {
   "codemirror_mode": {
    "name": "ipython",
    "version": 3
   },
   "file_extension": ".py",
   "mimetype": "text/x-python",
   "name": "python",
   "nbconvert_exporter": "python",
   "pygments_lexer": "ipython3",
   "version": "3.7.9"
  },
  "varInspector": {
   "cols": {
    "lenName": 16,
    "lenType": 16,
    "lenVar": 40
   },
   "kernels_config": {
    "python": {
     "delete_cmd_postfix": "",
     "delete_cmd_prefix": "del ",
     "library": "var_list.py",
     "varRefreshCmd": "print(var_dic_list())"
    },
    "r": {
     "delete_cmd_postfix": ") ",
     "delete_cmd_prefix": "rm(",
     "library": "var_list.r",
     "varRefreshCmd": "cat(var_dic_list()) "
    }
   },
   "types_to_exclude": [
    "module",
    "function",
    "builtin_function_or_method",
    "instance",
    "_Feature"
   ],
   "window_display": false
  }
 },
 "nbformat": 4,
 "nbformat_minor": 5
}
